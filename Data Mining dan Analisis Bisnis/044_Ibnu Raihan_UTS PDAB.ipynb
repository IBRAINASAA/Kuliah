{
 "cells": [
  {
   "cell_type": "markdown",
   "id": "62c040d6",
   "metadata": {},
   "source": [
    "**NAMA : IBNU RAIHAN**\n",
    "\n",
    "**NIM : 2304220044**\n",
    "\n",
    "**PRODI : STATISTIKA DAN SAINS DATA**"
   ]
  },
  {
   "cell_type": "code",
   "execution_count": 20,
   "id": "1f1f2a9e",
   "metadata": {},
   "outputs": [],
   "source": [
    "import numpy as np\n",
    "import pandas as pd\n",
    "import matplotlib.pyplot as plt\n",
    "import seaborn as sns\n",
    "import plotly.express as px\n",
    "from sklearn.preprocessing import StandardScaler\n",
    "from sklearn.model_selection import train_test_split\n",
    "from sklearn.neighbors import KNeighborsClassifier, KNeighborsRegressor\n",
    "from sklearn.linear_model import Perceptron\n",
    "from sklearn.neural_network import MLPClassifier\n",
    "from sklearn.decomposition import PCA\n",
    "from sklearn.linear_model import LogisticRegression\n",
    "from sklearn.metrics import accuracy_score, classification_report, mean_absolute_error, mean_squared_error"
   ]
  },
  {
   "cell_type": "code",
   "execution_count": 3,
   "id": "71a1dc08",
   "metadata": {},
   "outputs": [
    {
     "data": {
      "text/html": [
       "<div>\n",
       "<style scoped>\n",
       "    .dataframe tbody tr th:only-of-type {\n",
       "        vertical-align: middle;\n",
       "    }\n",
       "\n",
       "    .dataframe tbody tr th {\n",
       "        vertical-align: top;\n",
       "    }\n",
       "\n",
       "    .dataframe thead th {\n",
       "        text-align: right;\n",
       "    }\n",
       "</style>\n",
       "<table border=\"1\" class=\"dataframe\">\n",
       "  <thead>\n",
       "    <tr style=\"text-align: right;\">\n",
       "      <th></th>\n",
       "      <th>PassengerId</th>\n",
       "      <th>Survived</th>\n",
       "      <th>Pclass</th>\n",
       "      <th>Name</th>\n",
       "      <th>Sex</th>\n",
       "      <th>Age</th>\n",
       "      <th>SibSp</th>\n",
       "      <th>Parch</th>\n",
       "      <th>Ticket</th>\n",
       "      <th>Fare</th>\n",
       "      <th>Cabin</th>\n",
       "      <th>Embarked</th>\n",
       "    </tr>\n",
       "  </thead>\n",
       "  <tbody>\n",
       "    <tr>\n",
       "      <th>0</th>\n",
       "      <td>1</td>\n",
       "      <td>0</td>\n",
       "      <td>3</td>\n",
       "      <td>Braund, Mr. Owen Harris</td>\n",
       "      <td>male</td>\n",
       "      <td>22.0</td>\n",
       "      <td>1</td>\n",
       "      <td>0</td>\n",
       "      <td>A/5 21171</td>\n",
       "      <td>7.2500</td>\n",
       "      <td>NaN</td>\n",
       "      <td>S</td>\n",
       "    </tr>\n",
       "    <tr>\n",
       "      <th>1</th>\n",
       "      <td>2</td>\n",
       "      <td>1</td>\n",
       "      <td>1</td>\n",
       "      <td>Cumings, Mrs. John Bradley (Florence Briggs Th...</td>\n",
       "      <td>female</td>\n",
       "      <td>38.0</td>\n",
       "      <td>1</td>\n",
       "      <td>0</td>\n",
       "      <td>PC 17599</td>\n",
       "      <td>71.2833</td>\n",
       "      <td>C85</td>\n",
       "      <td>C</td>\n",
       "    </tr>\n",
       "    <tr>\n",
       "      <th>2</th>\n",
       "      <td>3</td>\n",
       "      <td>1</td>\n",
       "      <td>3</td>\n",
       "      <td>Heikkinen, Miss. Laina</td>\n",
       "      <td>female</td>\n",
       "      <td>26.0</td>\n",
       "      <td>0</td>\n",
       "      <td>0</td>\n",
       "      <td>STON/O2. 3101282</td>\n",
       "      <td>7.9250</td>\n",
       "      <td>NaN</td>\n",
       "      <td>S</td>\n",
       "    </tr>\n",
       "    <tr>\n",
       "      <th>3</th>\n",
       "      <td>4</td>\n",
       "      <td>1</td>\n",
       "      <td>1</td>\n",
       "      <td>Futrelle, Mrs. Jacques Heath (Lily May Peel)</td>\n",
       "      <td>female</td>\n",
       "      <td>35.0</td>\n",
       "      <td>1</td>\n",
       "      <td>0</td>\n",
       "      <td>113803</td>\n",
       "      <td>53.1000</td>\n",
       "      <td>C123</td>\n",
       "      <td>S</td>\n",
       "    </tr>\n",
       "    <tr>\n",
       "      <th>4</th>\n",
       "      <td>5</td>\n",
       "      <td>0</td>\n",
       "      <td>3</td>\n",
       "      <td>Allen, Mr. William Henry</td>\n",
       "      <td>male</td>\n",
       "      <td>35.0</td>\n",
       "      <td>0</td>\n",
       "      <td>0</td>\n",
       "      <td>373450</td>\n",
       "      <td>8.0500</td>\n",
       "      <td>NaN</td>\n",
       "      <td>S</td>\n",
       "    </tr>\n",
       "    <tr>\n",
       "      <th>...</th>\n",
       "      <td>...</td>\n",
       "      <td>...</td>\n",
       "      <td>...</td>\n",
       "      <td>...</td>\n",
       "      <td>...</td>\n",
       "      <td>...</td>\n",
       "      <td>...</td>\n",
       "      <td>...</td>\n",
       "      <td>...</td>\n",
       "      <td>...</td>\n",
       "      <td>...</td>\n",
       "      <td>...</td>\n",
       "    </tr>\n",
       "    <tr>\n",
       "      <th>886</th>\n",
       "      <td>887</td>\n",
       "      <td>0</td>\n",
       "      <td>2</td>\n",
       "      <td>Montvila, Rev. Juozas</td>\n",
       "      <td>male</td>\n",
       "      <td>27.0</td>\n",
       "      <td>0</td>\n",
       "      <td>0</td>\n",
       "      <td>211536</td>\n",
       "      <td>13.0000</td>\n",
       "      <td>NaN</td>\n",
       "      <td>S</td>\n",
       "    </tr>\n",
       "    <tr>\n",
       "      <th>887</th>\n",
       "      <td>888</td>\n",
       "      <td>1</td>\n",
       "      <td>1</td>\n",
       "      <td>Graham, Miss. Margaret Edith</td>\n",
       "      <td>female</td>\n",
       "      <td>19.0</td>\n",
       "      <td>0</td>\n",
       "      <td>0</td>\n",
       "      <td>112053</td>\n",
       "      <td>30.0000</td>\n",
       "      <td>B42</td>\n",
       "      <td>S</td>\n",
       "    </tr>\n",
       "    <tr>\n",
       "      <th>888</th>\n",
       "      <td>889</td>\n",
       "      <td>0</td>\n",
       "      <td>3</td>\n",
       "      <td>Johnston, Miss. Catherine Helen \"Carrie\"</td>\n",
       "      <td>female</td>\n",
       "      <td>NaN</td>\n",
       "      <td>1</td>\n",
       "      <td>2</td>\n",
       "      <td>W./C. 6607</td>\n",
       "      <td>23.4500</td>\n",
       "      <td>NaN</td>\n",
       "      <td>S</td>\n",
       "    </tr>\n",
       "    <tr>\n",
       "      <th>889</th>\n",
       "      <td>890</td>\n",
       "      <td>1</td>\n",
       "      <td>1</td>\n",
       "      <td>Behr, Mr. Karl Howell</td>\n",
       "      <td>male</td>\n",
       "      <td>26.0</td>\n",
       "      <td>0</td>\n",
       "      <td>0</td>\n",
       "      <td>111369</td>\n",
       "      <td>30.0000</td>\n",
       "      <td>C148</td>\n",
       "      <td>C</td>\n",
       "    </tr>\n",
       "    <tr>\n",
       "      <th>890</th>\n",
       "      <td>891</td>\n",
       "      <td>0</td>\n",
       "      <td>3</td>\n",
       "      <td>Dooley, Mr. Patrick</td>\n",
       "      <td>male</td>\n",
       "      <td>32.0</td>\n",
       "      <td>0</td>\n",
       "      <td>0</td>\n",
       "      <td>370376</td>\n",
       "      <td>7.7500</td>\n",
       "      <td>NaN</td>\n",
       "      <td>Q</td>\n",
       "    </tr>\n",
       "  </tbody>\n",
       "</table>\n",
       "<p>891 rows × 12 columns</p>\n",
       "</div>"
      ],
      "text/plain": [
       "     PassengerId  Survived  Pclass  \\\n",
       "0              1         0       3   \n",
       "1              2         1       1   \n",
       "2              3         1       3   \n",
       "3              4         1       1   \n",
       "4              5         0       3   \n",
       "..           ...       ...     ...   \n",
       "886          887         0       2   \n",
       "887          888         1       1   \n",
       "888          889         0       3   \n",
       "889          890         1       1   \n",
       "890          891         0       3   \n",
       "\n",
       "                                                  Name     Sex   Age  SibSp  \\\n",
       "0                              Braund, Mr. Owen Harris    male  22.0      1   \n",
       "1    Cumings, Mrs. John Bradley (Florence Briggs Th...  female  38.0      1   \n",
       "2                               Heikkinen, Miss. Laina  female  26.0      0   \n",
       "3         Futrelle, Mrs. Jacques Heath (Lily May Peel)  female  35.0      1   \n",
       "4                             Allen, Mr. William Henry    male  35.0      0   \n",
       "..                                                 ...     ...   ...    ...   \n",
       "886                              Montvila, Rev. Juozas    male  27.0      0   \n",
       "887                       Graham, Miss. Margaret Edith  female  19.0      0   \n",
       "888           Johnston, Miss. Catherine Helen \"Carrie\"  female   NaN      1   \n",
       "889                              Behr, Mr. Karl Howell    male  26.0      0   \n",
       "890                                Dooley, Mr. Patrick    male  32.0      0   \n",
       "\n",
       "     Parch            Ticket     Fare Cabin Embarked  \n",
       "0        0         A/5 21171   7.2500   NaN        S  \n",
       "1        0          PC 17599  71.2833   C85        C  \n",
       "2        0  STON/O2. 3101282   7.9250   NaN        S  \n",
       "3        0            113803  53.1000  C123        S  \n",
       "4        0            373450   8.0500   NaN        S  \n",
       "..     ...               ...      ...   ...      ...  \n",
       "886      0            211536  13.0000   NaN        S  \n",
       "887      0            112053  30.0000   B42        S  \n",
       "888      2        W./C. 6607  23.4500   NaN        S  \n",
       "889      0            111369  30.0000  C148        C  \n",
       "890      0            370376   7.7500   NaN        Q  \n",
       "\n",
       "[891 rows x 12 columns]"
      ]
     },
     "execution_count": 3,
     "metadata": {},
     "output_type": "execute_result"
    }
   ],
   "source": [
    "data = pd.read_csv('D:/Kuliah/Semester 4/penambangan data dan analisis bisnis/Titanic-Dataset.csv')\n",
    "data"
   ]
  },
  {
   "cell_type": "code",
   "execution_count": 4,
   "id": "c5f529d5",
   "metadata": {},
   "outputs": [
    {
     "name": "stdout",
     "output_type": "stream",
     "text": [
      "<class 'pandas.core.frame.DataFrame'>\n",
      "RangeIndex: 891 entries, 0 to 890\n",
      "Data columns (total 12 columns):\n",
      " #   Column       Non-Null Count  Dtype  \n",
      "---  ------       --------------  -----  \n",
      " 0   PassengerId  891 non-null    int64  \n",
      " 1   Survived     891 non-null    int64  \n",
      " 2   Pclass       891 non-null    int64  \n",
      " 3   Name         891 non-null    object \n",
      " 4   Sex          891 non-null    object \n",
      " 5   Age          714 non-null    float64\n",
      " 6   SibSp        891 non-null    int64  \n",
      " 7   Parch        891 non-null    int64  \n",
      " 8   Ticket       891 non-null    object \n",
      " 9   Fare         891 non-null    float64\n",
      " 10  Cabin        204 non-null    object \n",
      " 11  Embarked     889 non-null    object \n",
      "dtypes: float64(2), int64(5), object(5)\n",
      "memory usage: 83.7+ KB\n"
     ]
    }
   ],
   "source": [
    "data.info()"
   ]
  },
  {
   "cell_type": "markdown",
   "id": "84fc029d",
   "metadata": {},
   "source": [
    "**SOAL NOMOR 1 (EKSPLORASI AWAL)**"
   ]
  },
  {
   "cell_type": "markdown",
   "id": "646ea1cc",
   "metadata": {},
   "source": [
    "a. Berapa jumlah total penumpang dalam data?"
   ]
  },
  {
   "cell_type": "code",
   "execution_count": 5,
   "id": "35ab07f5",
   "metadata": {},
   "outputs": [
    {
     "name": "stdout",
     "output_type": "stream",
     "text": [
      "Jumlah total penumpang: 891\n"
     ]
    }
   ],
   "source": [
    "total_penumpang = data.shape[0]\n",
    "print(f\"Jumlah total penumpang: {total_penumpang}\")"
   ]
  },
  {
   "cell_type": "markdown",
   "id": "3c3dafa5",
   "metadata": {},
   "source": [
    "b. Berapa jumlah penumpang yang selamat dan tidak selamat? Tampilkan dalam bentuk tabel dan grafik?"
   ]
  },
  {
   "cell_type": "code",
   "execution_count": 6,
   "id": "b005d2c9",
   "metadata": {},
   "outputs": [
    {
     "name": "stdout",
     "output_type": "stream",
     "text": [
      "          Status  Jumlah\n",
      "0  Tidak Selamat     549\n",
      "1        Selamat     342\n"
     ]
    },
    {
     "name": "stderr",
     "output_type": "stream",
     "text": [
      "C:\\Users\\ACER NITRO\\AppData\\Local\\Temp\\ipykernel_16892\\3123840972.py:11: FutureWarning: \n",
      "\n",
      "Passing `palette` without assigning `hue` is deprecated and will be removed in v0.14.0. Assign the `x` variable to `hue` and set `legend=False` for the same effect.\n",
      "\n",
      "  sns.barplot(x=survival_table['Status'], y=survival_table['Jumlah'], palette='pastel')\n"
     ]
    },
    {
     "data": {
      "image/png": "[encoded data removed]",
      "text/plain": [
       "<Figure size 800x500 with 1 Axes>"
      ]
     },
     "metadata": {},
     "output_type": "display_data"
    }
   ],
   "source": [
    "#Membentuk Tabel DataFrame\n",
    "survival_counts = data['Survived'].value_counts()\n",
    "survival_table = pd.DataFrame({\n",
    "    'Status': ['Tidak Selamat', 'Selamat'],\n",
    "    'Jumlah': [survival_counts[0], survival_counts[1]]\n",
    "})\n",
    "print(survival_table)\n",
    "\n",
    "# Visualisasi hasil menggunakan grafik\n",
    "plt.figure(figsize=(8, 5))\n",
    "sns.barplot(x=survival_table['Status'], y=survival_table['Jumlah'], palette='pastel')\n",
    "plt.title('Jumlah Penumpang Berdasarkan Status Keselamatan')\n",
    "plt.xlabel('Status')\n",
    "plt.ylabel('Jumlah')\n",
    "plt.show()"
   ]
  },
  {
   "cell_type": "markdown",
   "id": "dbdc0a1f",
   "metadata": {},
   "source": [
    "c. Berapa rata-rata umur penumpang? Dan siapa penumpang termuda dan tertua"
   ]
  },
  {
   "cell_type": "code",
   "execution_count": 7,
   "id": "636f47da",
   "metadata": {},
   "outputs": [
    {
     "name": "stdout",
     "output_type": "stream",
     "text": [
      "Nama penumpang termuda: Thomas, Master. Assad Alexander\n",
      "Nama penumpang tertua: Barkworth, Mr. Algernon Henry Wilson\n"
     ]
    }
   ],
   "source": [
    "rata_rata_umur = data['Age'].mean()\n",
    "\n",
    "# Mendapatkan nama penumpang termuda\n",
    "nama_termuda = data.loc[data['Age'].idxmin(), 'Name']\n",
    "\n",
    "# Mendapatkan nama penumpang tertua\n",
    "nama_tertua = data.loc[data['Age'].idxmax(), 'Name']\n",
    "\n",
    "print(f\"Nama penumpang termuda: {nama_termuda}\")\n",
    "print(f\"Nama penumpang tertua: {nama_tertua}\")"
   ]
  },
  {
   "cell_type": "markdown",
   "id": "79b3609b",
   "metadata": {},
   "source": [
    "d. Berapakah jumlah penumpang berdasarkan jenis kelamin? Siapa yang paling banyak? Visualisasikan"
   ]
  },
  {
   "cell_type": "code",
   "execution_count": 8,
   "id": "8460af62",
   "metadata": {},
   "outputs": [
    {
     "name": "stdout",
     "output_type": "stream",
     "text": [
      "  Jenis Kelamin  Jumlah\n",
      "0          male     577\n",
      "1        female     314\n",
      "Jenis kelamin yang paling banyak: male\n"
     ]
    },
    {
     "name": "stderr",
     "output_type": "stream",
     "text": [
      "C:\\Users\\ACER NITRO\\AppData\\Local\\Temp\\ipykernel_16892\\1137154979.py:17: FutureWarning: \n",
      "\n",
      "Passing `palette` without assigning `hue` is deprecated and will be removed in v0.14.0. Assign the `x` variable to `hue` and set `legend=False` for the same effect.\n",
      "\n",
      "  sns.barplot(x=gender_table['Jenis Kelamin'], y=gender_table['Jumlah'], palette='coolwarm')\n"
     ]
    },
    {
     "data": {
      "image/png": "[encoded data removed]",
      "text/plain": [
       "<Figure size 800x500 with 1 Axes>"
      ]
     },
     "metadata": {},
     "output_type": "display_data"
    }
   ],
   "source": [
    "# Menghitung jumlah penumpang berdasarkan jenis kelamin\n",
    "gender_counts = data['Sex'].value_counts()\n",
    "\n",
    "# Menampilkan hasil dalam bentuk tabel\n",
    "gender_table = pd.DataFrame({\n",
    "    'Jenis Kelamin': gender_counts.index,\n",
    "    'Jumlah': gender_counts.values\n",
    "})\n",
    "print(gender_table)\n",
    "\n",
    "# Menentukan jenis kelamin yang paling banyak\n",
    "gender_terbanyak = gender_counts.idxmax()\n",
    "print(f\"Jenis kelamin yang paling banyak: {gender_terbanyak}\")\n",
    "\n",
    "# Visualisasi hasil menggunakan grafik\n",
    "plt.figure(figsize=(8, 5))\n",
    "sns.barplot(x=gender_table['Jenis Kelamin'], y=gender_table['Jumlah'], palette='coolwarm')\n",
    "plt.title('Jumlah Penumpang Berdasarkan Jenis Kelamin')\n",
    "plt.xlabel('Jenis Kelamin')\n",
    "plt.ylabel('Jumlah')\n",
    "plt.show()"
   ]
  },
  {
   "cell_type": "markdown",
   "id": "a4adc06a",
   "metadata": {},
   "source": [
    "e. Tampilkan jumlah penumpang berdasarkan kelas (Pclass) dan berapa persen dari total data yang beada di kelasa 1? Visualisasikan"
   ]
  },
  {
   "cell_type": "code",
   "execution_count": 9,
   "id": "edaaa5a2",
   "metadata": {},
   "outputs": [
    {
     "name": "stdout",
     "output_type": "stream",
     "text": [
      "   Kelas  Jumlah\n",
      "0      3     491\n",
      "1      1     216\n",
      "2      2     184\n",
      "Persentase penumpang di kelas 1: 24.24%\n"
     ]
    },
    {
     "name": "stderr",
     "output_type": "stream",
     "text": [
      "C:\\Users\\ACER NITRO\\AppData\\Local\\Temp\\ipykernel_16892\\2640326099.py:18: FutureWarning: \n",
      "\n",
      "Passing `palette` without assigning `hue` is deprecated and will be removed in v0.14.0. Assign the `x` variable to `hue` and set `legend=False` for the same effect.\n",
      "\n",
      "  sns.barplot(x=pclass_table['Kelas'], y=pclass_table['Jumlah'], palette='viridis')\n"
     ]
    },
    {
     "data": {
      "image/png": "[encoded data removed]",
      "text/plain": [
       "<Figure size 800x500 with 1 Axes>"
      ]
     },
     "metadata": {},
     "output_type": "display_data"
    }
   ],
   "source": [
    "# Menghitung jumlah penumpang berdasarkan kelas (Pclass)\n",
    "pclass_counts = data['Pclass'].value_counts()\n",
    "\n",
    "# Menampilkan hasil dalam bentuk tabel\n",
    "pclass_table = pd.DataFrame({\n",
    "    'Kelas': pclass_counts.index,\n",
    "    'Jumlah': pclass_counts.values\n",
    "})\n",
    "print(pclass_table)\n",
    "\n",
    "# Menghitung persentase penumpang di kelas 1\n",
    "total_penumpang = data.shape[0]\n",
    "persentase_kelas_1 = (pclass_counts[1] / total_penumpang) * 100\n",
    "print(f\"Persentase penumpang di kelas 1: {persentase_kelas_1:.2f}%\")\n",
    "\n",
    "# Visualisasi hasil menggunakan grafik\n",
    "plt.figure(figsize=(8, 5))\n",
    "sns.barplot(x=pclass_table['Kelas'], y=pclass_table['Jumlah'], palette='viridis')\n",
    "plt.title('Jumlah Penumpang Berdasarkan Kelas')\n",
    "plt.xlabel('Kelas')\n",
    "plt.ylabel('Jumlah')\n",
    "plt.show()"
   ]
  },
  {
   "cell_type": "markdown",
   "id": "09adda04",
   "metadata": {},
   "source": [
    "**SOAL NOMOR 2 (PREPROCESSING)**"
   ]
  },
  {
   "cell_type": "markdown",
   "id": "2fea379e",
   "metadata": {},
   "source": [
    "a. Apakah terdapat missing value pada data tersebut?"
   ]
  },
  {
   "cell_type": "code",
   "execution_count": 10,
   "id": "833a4ee1",
   "metadata": {},
   "outputs": [
    {
     "name": "stderr",
     "output_type": "stream",
     "text": [
      "d:\\python\\Lib\\site-packages\\numpy\\_core\\fromnumeric.py:84: FutureWarning: The behavior of DataFrame.sum with axis=None is deprecated, in a future version this will reduce over both axes and return a scalar. To retain the old behavior, pass axis=0 (or do not pass axis)\n",
      "  return reduction(axis=axis, out=out, **passkwargs)\n"
     ]
    },
    {
     "data": {
      "text/plain": [
       "PassengerId      0\n",
       "Survived         0\n",
       "Pclass           0\n",
       "Name             0\n",
       "Sex              0\n",
       "Age            177\n",
       "SibSp            0\n",
       "Parch            0\n",
       "Ticket           0\n",
       "Fare             0\n",
       "Cabin          687\n",
       "Embarked         2\n",
       "dtype: int64"
      ]
     },
     "execution_count": 10,
     "metadata": {},
     "output_type": "execute_result"
    }
   ],
   "source": [
    "np.sum(data.isnull())"
   ]
  },
  {
   "cell_type": "markdown",
   "id": "eb1dea84",
   "metadata": {},
   "source": [
    "Jumlah missing value di setiap kolom :\n",
    "- Missing value di kolom Age (Umur) adalah 177\n",
    "- Missing value di kolom Cabin adalah 687\n",
    "- Missing value di kolom Embarked adalah 2"
   ]
  },
  {
   "cell_type": "markdown",
   "id": "088d4922",
   "metadata": {},
   "source": [
    "b. Jika ya, apa yang anda lakukan?"
   ]
  },
  {
   "cell_type": "markdown",
   "id": "f730e75f",
   "metadata": {},
   "source": [
    "Pada tahap ini yang saya lakukan untuk masing-masing variabel, yakni :\n",
    "- Pada kolom Age, saya akan menggunakan metode imputasi mean\n",
    "- Pada kolom Kabin, saya akan membiarkan nilai missing value/drop kolom Kabin karena terlalu banyak missing value\n",
    "- Pada kolom Embarked, saya akan menggunakan metode imputasi modus (Mencari Nilai Yang Sering Muncul) dan melakukan encoder untuk kategoriknya.\n",
    "- Pada kolom Sex, saya akan melakukan encoder."
   ]
  },
  {
   "cell_type": "code",
   "execution_count": 11,
   "id": "cc111251",
   "metadata": {},
   "outputs": [
    {
     "name": "stdout",
     "output_type": "stream",
     "text": [
      "Embarked\n",
      "S    644\n",
      "C    168\n",
      "Q     77\n",
      "Name: count, dtype: int64\n"
     ]
    }
   ],
   "source": [
    "embarked_counts = data['Embarked'].value_counts()\n",
    "print(embarked_counts)"
   ]
  },
  {
   "cell_type": "code",
   "execution_count": 12,
   "id": "cf7a8d13",
   "metadata": {},
   "outputs": [],
   "source": [
    "# Mengisi nilai kosong pada kolom 'Age' dengan rata-rata umur (jika ada nilai kosong)\n",
    "data['Age'] = data['Age'].fillna(data['Age'].mean())\n",
    "\n",
    "# Mengisi nilai kosong pada kolom 'Embarked' dengan nilai 'S' (jika ada nilai kosong)\n",
    "data['Embarked'] = data['Embarked'].fillna('S')"
   ]
  },
  {
   "cell_type": "code",
   "execution_count": 13,
   "id": "05c975b8",
   "metadata": {},
   "outputs": [
    {
     "name": "stderr",
     "output_type": "stream",
     "text": [
      "d:\\python\\Lib\\site-packages\\numpy\\_core\\fromnumeric.py:84: FutureWarning: The behavior of DataFrame.sum with axis=None is deprecated, in a future version this will reduce over both axes and return a scalar. To retain the old behavior, pass axis=0 (or do not pass axis)\n",
      "  return reduction(axis=axis, out=out, **passkwargs)\n"
     ]
    },
    {
     "data": {
      "text/plain": [
       "PassengerId      0\n",
       "Survived         0\n",
       "Pclass           0\n",
       "Name             0\n",
       "Sex              0\n",
       "Age              0\n",
       "SibSp            0\n",
       "Parch            0\n",
       "Ticket           0\n",
       "Fare             0\n",
       "Cabin          687\n",
       "Embarked         0\n",
       "dtype: int64"
      ]
     },
     "execution_count": 13,
     "metadata": {},
     "output_type": "execute_result"
    }
   ],
   "source": [
    "np.sum(data.isnull())"
   ]
  },
  {
   "cell_type": "code",
   "execution_count": 14,
   "id": "3031f3e6",
   "metadata": {},
   "outputs": [
    {
     "name": "stdout",
     "output_type": "stream",
     "text": [
      "   Sex  Embarked\n",
      "0    0         2\n",
      "1    1         0\n",
      "2    1         2\n",
      "3    1         2\n",
      "4    0         2\n"
     ]
    }
   ],
   "source": [
    "# Label Encoding untuk kolom 'Sex'\n",
    "data['Sex'] = data['Sex'].map({'male': 0, 'female': 1})\n",
    "\n",
    "# Label Encoding untuk kolom 'Embarked'\n",
    "embarked_mapping = {'C': 0, 'Q': 1, 'S': 2}\n",
    "data['Embarked'] = data['Embarked'].map(embarked_mapping)\n",
    "\n",
    "print(data[['Sex', 'Embarked']].head())"
   ]
  },
  {
   "cell_type": "markdown",
   "id": "e268bbf9",
   "metadata": {},
   "source": [
    "Pada tahap ini, Saya melakukan encoder pada kolom Sex dan Embarked dengan ketentuan :\n",
    "- Kolom Sex :\n",
    "\n",
    "0 = Male, 1 = Female.\n",
    "\n",
    "- Kolom Embarked :\n",
    "\n",
    "0 = C, 1 = Q, 2 = S."
   ]
  },
  {
   "cell_type": "markdown",
   "id": "e8664b20",
   "metadata": {},
   "source": [
    "c. Apakah terdapat data outlier pada data tersebut? Jelaskan apa itu outlier!"
   ]
  },
  {
   "cell_type": "code",
   "execution_count": 15,
   "id": "e79ff3f0",
   "metadata": {},
   "outputs": [
    {
     "data": {
      "image/png": "[encoded data removed]",
      "text/plain": [
       "<Figure size 1500x800 with 4 Axes>"
      ]
     },
     "metadata": {},
     "output_type": "display_data"
    }
   ],
   "source": [
    "# Visualisasi Boxplot\n",
    "numerical_cols = ['Age', 'SibSp', 'Parch', 'Fare']\n",
    "\n",
    "plt.figure(figsize=(15, 8))\n",
    "for i, col in enumerate(numerical_cols, 1):\n",
    "    plt.subplot(3, 4, i)\n",
    "    sns.boxplot(y=data[col])\n",
    "    plt.title(col)\n",
    "plt.tight_layout()\n",
    "plt.show()"
   ]
  },
  {
   "cell_type": "markdown",
   "id": "0f6b36eb",
   "metadata": {},
   "source": [
    "**Outlier** adalah data yang memiliki nilai yang sangat berbeda atau jauh dari sebagian besar data lainnya dalam dataset. Outlier dapat memengaruhi analisis statistik dan model machine learning, sehingga penting untuk mendeteksinya.\n",
    "Pada dataset ini, terdapat beberapa kolom numerik yang dapat memiliki outlier, seperti 'Age', 'SibSp', 'Parch', dan 'Fare'."
   ]
  },
  {
   "cell_type": "markdown",
   "id": "f628778f",
   "metadata": {},
   "source": [
    "d. Apakah outlier pada data tersebut perlu diatasi serta bagaimana cara mengatasinya?"
   ]
  },
  {
   "cell_type": "markdown",
   "id": "051d1698",
   "metadata": {},
   "source": [
    "Pada kolom 'Age', 'SibSp', 'Parch', dan 'Fare' terdapat outlier, Saya menggunakan metode capping untuk mengatasinya karena ingin mempertahankan data. Capping adalah teknik untuk membatasi nilai outlier ke dalam rentang tertentu berdasarkan Interquartile Range (IQR). "
   ]
  },
  {
   "cell_type": "code",
   "execution_count": null,
   "id": "4cb6850c",
   "metadata": {},
   "outputs": [
    {
     "data": {
      "image/png": "[encoded data removed]",
      "text/plain": [
       "<Figure size 1200x500 with 1 Axes>"
      ]
     },
     "metadata": {},
     "output_type": "display_data"
    },
    {
     "data": {
      "image/png": "[encoded data removed]",
      "text/plain": [
       "<Figure size 1200x500 with 1 Axes>"
      ]
     },
     "metadata": {},
     "output_type": "display_data"
    },
    {
     "data": {
      "image/png": "[encoded data removed]",
      "text/plain": [
       "<Figure size 1200x500 with 1 Axes>"
      ]
     },
     "metadata": {},
     "output_type": "display_data"
    },
    {
     "data": {
      "image/png": "[encoded data removed]",
      "text/plain": [
       "<Figure size 1200x500 with 1 Axes>"
      ]
     },
     "metadata": {},
     "output_type": "display_data"
    },
    {
     "data": {
      "image/png": "[encoded data removed]",
      "text/plain": [
       "<Figure size 1200x500 with 1 Axes>"
      ]
     },
     "metadata": {},
     "output_type": "display_data"
    },
    {
     "data": {
      "image/png": "[encoded data removed]",
      "text/plain": [
       "<Figure size 1200x500 with 1 Axes>"
      ]
     },
     "metadata": {},
     "output_type": "display_data"
    },
    {
     "data": {
      "image/png": "[encoded data removed]",
      "text/plain": [
       "<Figure size 1200x500 with 1 Axes>"
      ]
     },
     "metadata": {},
     "output_type": "display_data"
    },
    {
     "data": {
      "image/png": "[encoded data removed]",
      "text/plain": [
       "<Figure size 1200x500 with 1 Axes>"
      ]
     },
     "metadata": {},
     "output_type": "display_data"
    }
   ],
   "source": [
    "# Fungsi capping berdasarkan IQR\n",
    "def cap_outliers_iqr(data, column):\n",
    "    Q1 = data[column].quantile(0.25)\n",
    "    Q3 = data[column].quantile(0.75)\n",
    "    IQR = Q3 - Q1\n",
    "    lower_limit = Q1 - 1.5 * IQR\n",
    "    upper_limit = Q3 + 1.5 * IQR\n",
    "\n",
    "    data[column] = np.where(data[column] < lower_limit, lower_limit,\n",
    "                    np.where(data[column] > upper_limit, upper_limit, data[column]))\n",
    "    return data\n",
    "\n",
    "capped_data = data.copy()\n",
    "\n",
    "# Loop semua kolom numerik\n",
    "for col in numerical_cols:\n",
    "    # Membuat boxplot sebelum capping\n",
    "    plt.figure(figsize=(12, 5))\n",
    "    sns.boxplot(x=capped_data[col], color='tomato')\n",
    "    plt.title(f'BEFORE Capping Outliers – {col}')\n",
    "    plt.show()\n",
    "\n",
    "    capped_data = cap_outliers_iqr(capped_data, col)\n",
    "\n",
    "    # Membuat boxplot setelah capping\n",
    "    plt.figure(figsize=(12, 5))\n",
    "    sns.boxplot(x=capped_data[col], color='lightgreen')\n",
    "    plt.title(f'AFTER Capping Outliers – {col}')\n",
    "    plt.show()"
   ]
  },
  {
   "cell_type": "markdown",
   "id": "d6a65843",
   "metadata": {},
   "source": [
    "e. Jika dibutuhkan silakan lakukan transformasi/standarisasi/scalling terhadap data tersebut"
   ]
  },
  {
   "cell_type": "markdown",
   "id": "00fa8c22",
   "metadata": {},
   "source": [
    "Saya melakukan scalling karena saya akan menggunakan model KNN, Logistic Regression, dan Neural Network (Multi Layer Perceptron). dan saya menggunakan transformasi untuk kolom Fare untuk mengurangi skewness."
   ]
  },
  {
   "cell_type": "code",
   "execution_count": 21,
   "id": "061759be",
   "metadata": {},
   "outputs": [],
   "source": [
    "from sklearn.preprocessing import StandardScaler\n",
    "scaler = StandardScaler()\n",
    "data[numerical_cols] = scaler.fit_transform(data[numerical_cols])"
   ]
  },
  {
   "cell_type": "code",
   "execution_count": 17,
   "id": "09c2a7a3",
   "metadata": {},
   "outputs": [
    {
     "name": "stdout",
     "output_type": "stream",
     "text": [
      "0    2.110213\n",
      "1    4.280593\n",
      "2    2.188856\n",
      "3    3.990834\n",
      "4    2.202765\n",
      "Name: Fare, dtype: float64\n"
     ]
    }
   ],
   "source": [
    "# Log transformasi untuk kolom Fare\n",
    "data['Fare'] = np.log1p(data['Fare'])  # Menggunakan log(1 + x) untuk menghindari log(0)\n",
    "\n",
    "print(data['Fare'].head())"
   ]
  },
  {
   "cell_type": "markdown",
   "id": "c6cb9fdb",
   "metadata": {},
   "source": [
    "**SOAL NOMOR 3 (MODELLING)**"
   ]
  },
  {
   "cell_type": "markdown",
   "id": "34e98097",
   "metadata": {},
   "source": [
    "a. Jelaskan proses pembagian data menjadi data training dan testing dan alasan mengapa perlu membagi data tersebut."
   ]
  },
  {
   "cell_type": "markdown",
   "id": "3320c007",
   "metadata": {},
   "source": [
    "Data training digunakan untuk melatih model agar bisa mengenali pola dalam data. Data testing digunakan untuk mengukur performa model pada data yang belum pernah dilihat sebelumnya. Pembagian data training dan testing sangat penting agar kita bisa menilai seberapa baik model bekerja di luar data latihannya, yang mencerminkan performa di dunia nyata."
   ]
  },
  {
   "cell_type": "markdown",
   "id": "56956e87",
   "metadata": {},
   "source": [
    "b. Berapa persen pembagiannya? Mengapa memilih membagi dengan proporsi tersebut?"
   ]
  },
  {
   "cell_type": "markdown",
   "id": "4f8a2759",
   "metadata": {},
   "source": [
    "80% untuk training dan 20% untuk testing. Proporsi 80:20 adalah standar yang sering digunakan karena memberikan data latih yang cukup banyak, sambil tetap menyediakan data uji yang cukup representatif untuk mengevaluasi model."
   ]
  },
  {
   "cell_type": "markdown",
   "id": "34b76769",
   "metadata": {},
   "source": [
    "c. Buatlah model klasifikasi dari 3 algoritma yang berbeda. Jelaskan masing-masing model dan cara kerjanya."
   ]
  },
  {
   "cell_type": "code",
   "execution_count": 23,
   "id": "5429eaba",
   "metadata": {},
   "outputs": [],
   "source": [
    "# Pisahkan fitur dan target\n",
    "X = data.drop(columns=['PassengerId', 'Name', 'Ticket', 'Cabin', 'Survived'])  # fitur\n",
    "y = data['Survived']  # target klasifikasi"
   ]
  },
  {
   "cell_type": "markdown",
   "id": "57815fe1",
   "metadata": {},
   "source": [
    "1. K Nearest Neighbors"
   ]
  },
  {
   "cell_type": "markdown",
   "id": "12c2d97e",
   "metadata": {},
   "source": [
    "Dalam KNN, data baru akan diprediksi berdasarkan kedekatannya dengan titik data yang ada (neighbor). KNN akan menghitung jarak antara data baru dan setiap data dalam dataset menggunakan metrik jarak (seperti Euclidean, Manhattan, dll). Kemudian, data baru akan dikategorikan ke dalam kelas yang paling banyak muncul di \"K\" tetangga terdekat."
   ]
  },
  {
   "cell_type": "code",
   "execution_count": null,
   "id": "9493a8df",
   "metadata": {},
   "outputs": [
    {
     "name": "stdout",
     "output_type": "stream",
     "text": [
      "Akurasi Klasifikasi: 0.8268156424581006\n",
      "Laporan Klasifikasi:\n",
      "               precision    recall  f1-score   support\n",
      "\n",
      "           0       0.84      0.88      0.86       105\n",
      "           1       0.81      0.76      0.78        74\n",
      "\n",
      "    accuracy                           0.83       179\n",
      "   macro avg       0.82      0.82      0.82       179\n",
      "weighted avg       0.83      0.83      0.83       179\n",
      "\n"
     ]
    }
   ],
   "source": [
    "# Split Data\n",
    "X_train, X_test, y_train, y_test = train_test_split(X, y, test_size=0.2, random_state=42)\n",
    "\n",
    "scaler = StandardScaler()\n",
    "X_train_scaled = scaler.fit_transform(X_train)\n",
    "X_test_scaled = scaler.transform(X_test)\n",
    "\n",
    "# Model KNN untuk klasifikasi\n",
    "knn = KNeighborsClassifier(n_neighbors=7)\n",
    "knn.fit(X_train_scaled, y_train)\n",
    "y_pred = knn.predict(X_test_scaled)\n",
    "\n",
    "# Evaluasi model\n",
    "print(\"Akurasi Klasifikasi:\", accuracy_score(y_test, y_pred))\n",
    "print(\"Laporan Klasifikasi:\\n\", classification_report(y_test, y_pred))\n"
   ]
  },
  {
   "cell_type": "markdown",
   "id": "101c7213",
   "metadata": {},
   "source": [
    "2. Neural Network (Multi Layer Perceptron)"
   ]
  },
  {
   "cell_type": "markdown",
   "id": "5940b567",
   "metadata": {},
   "source": [
    "Neural Network adalah algoritma pembelajaran mesin yang terinspirasi oleh cara kerja otak manusia, dengan struktur yang terdiri dari lapisan input, lapisan tersembunyi (hidden layers), dan lapisan output. Setiap neuron dihubungkan ke neuron lain dengan bobot yang dapat dipelajari. Input melalui neuron pertama akan diteruskan melalui jaringan, dan setiap bobot akan mempengaruhi hasil akhir. Output dihitung dengan melakukan operasi matematika (biasanya perkalian matriks) pada input dan bobot, kemudian melewati fungsi aktivasi (seperti ReLU, sigmoid, atau tanh) untuk memperkenalkan non-linearitas.Proses pelatihan menggunakan metode seperti backpropagation untuk memperbarui bobot berdasarkan kesalahan prediksi."
   ]
  },
  {
   "cell_type": "code",
   "execution_count": null,
   "id": "ad70f280",
   "metadata": {},
   "outputs": [
    {
     "name": "stdout",
     "output_type": "stream",
     "text": [
      "Akurasi Klasifikasi: 0.8379888268156425\n",
      "Laporan Klasifikasi:\n",
      "               precision    recall  f1-score   support\n",
      "\n",
      "           0       0.83      0.91      0.87       105\n",
      "           1       0.86      0.73      0.79        74\n",
      "\n",
      "    accuracy                           0.84       179\n",
      "   macro avg       0.84      0.82      0.83       179\n",
      "weighted avg       0.84      0.84      0.84       179\n",
      "\n"
     ]
    }
   ],
   "source": [
    "# Split data\n",
    "X_train, X_test, y_train, y_test = train_test_split(X, y, test_size=0.2, random_state=42)\n",
    "\n",
    "scaler = StandardScaler()\n",
    "X_train_scaled = scaler.fit_transform(X_train)\n",
    "X_test_scaled = scaler.transform(X_test)\n",
    "\n",
    "#Model MLP untuk Klasifikasi\n",
    "mlp = MLPClassifier(hidden_layer_sizes=(6, 4), max_iter=1000, alpha=0.01, random_state=42)\n",
    "mlp.fit(X_train, y_train)\n",
    "y_pred = mlp.predict(X_test)\n",
    "\n",
    "print(\"Akurasi Klasifikasi:\", accuracy_score(y_test, y_pred))\n",
    "print(\"Laporan Klasifikasi:\\n\", classification_report(y_test, y_pred)) \n",
    "\n"
   ]
  },
  {
   "cell_type": "markdown",
   "id": "558865f9",
   "metadata": {},
   "source": [
    "3. Logistic Regression"
   ]
  },
  {
   "cell_type": "markdown",
   "id": "72466cfd",
   "metadata": {},
   "source": [
    "Logistic Regression digunakan untuk klasifikasi biner (dua kelas). Model ini mengestimasi probabilitas kelas dengan menggunakan fungsi logistik (sigmoid). Fungsi logistik memetakan output dari model linear (hasil perkalian antara input dan bobot) ke dalam rentang antara 0 dan 1, yang kemudian dapat diinterpretasikan sebagai probabilitas. Model ini mencoba menemukan parameter (bobot) yang meminimalkan fungsi biaya (seperti log-loss) menggunakan teknik optimasi (misalnya, gradient descent)."
   ]
  },
  {
   "cell_type": "code",
   "execution_count": null,
   "id": "d115f1a2",
   "metadata": {},
   "outputs": [
    {
     "name": "stdout",
     "output_type": "stream",
     "text": [
      "Akurasi Klasifikasi: 0.8324022346368715\n",
      "Laporan Klasifikasi:\n",
      "               precision    recall  f1-score   support\n",
      "\n",
      "           0       0.87      0.87      0.87       117\n",
      "           1       0.76      0.76      0.76        62\n",
      "\n",
      "    accuracy                           0.83       179\n",
      "   macro avg       0.81      0.81      0.81       179\n",
      "weighted avg       0.83      0.83      0.83       179\n",
      "\n"
     ]
    }
   ],
   "source": [
    "#Split Data\n",
    "X_train, X_test, y_train, y_test = train_test_split(X, y, test_size=0.2, random_state=10)\n",
    "\n",
    "\n",
    "scaler = StandardScaler()\n",
    "X_train_scaled = scaler.fit_transform(X_train)\n",
    "X_test_scaled = scaler.transform(X_test)\n",
    "\n",
    "pca = PCA(n_components=7)\n",
    "X_train_pca = pca.fit_transform(X_train_scaled)\n",
    "X_test_pca = pca.transform(X_test_scaled)\n",
    "\n",
    "#Model Logistic Regression\n",
    "model = LogisticRegression()\n",
    "model.fit(X_train_pca, y_train)\n",
    "y_pred = model.predict(X_test_pca)\n",
    "\n",
    "#Evaluasi\n",
    "accuracy = accuracy_score(y_test, y_pred)\n",
    "print(\"Akurasi Klasifikasi:\", accuracy)\n",
    "print(\"Laporan Klasifikasi:\\n\", classification_report(y_test, y_pred))\n"
   ]
  },
  {
   "cell_type": "markdown",
   "id": "69030473",
   "metadata": {},
   "source": [
    "d. Berapa nilai evaluasi dari masing-masing model pada data uji? Apa arti dari masing-masing metrik evaluasi tersebut?"
   ]
  },
  {
   "cell_type": "markdown",
   "id": "7283af5d",
   "metadata": {},
   "source": [
    "- Akurasi KNN : 82.6%\n",
    "- Akurasi MLP : 83.7%\n",
    "- AKurasi LR : 83.2%\n",
    "\n",
    "Metrik-metrik evaluasi :\n",
    "1. Akurasi (Accuracy): Persentase prediksi yang benar dari total data.\n",
    "2. Precision: Proporsi prediksi positif yang benar dari semua prediksi positif.\n",
    "3. Recall (Sensitivity atau True Positive Rate): Proporsi data positif yang benar-benar terdeteksi sebagai positif.\n",
    "4. F1-Score: Rata-rata harmonis antara Precision dan Recall."
   ]
  },
  {
   "cell_type": "markdown",
   "id": "cd8afa0f",
   "metadata": {},
   "source": [
    "e. Bandingkan hasil dari ketiga algoritma tersebut, mana yang paling bagus? Berikan ulasan kira kira apa yang memnyebabkan metode tersebut dapat memprediksi dataset anda dengan baik."
   ]
  },
  {
   "cell_type": "markdown",
   "id": "022c144f",
   "metadata": {},
   "source": [
    "MLP sedikit lebih unggul karena kemampuannya untuk menangani pola yang lebih kompleks dan non-linear dalam data. Meskipun dataset Titanic relatif kecil, MLP tetap bisa menunjukkan kinerja yang lebih baik dengan optimasi yang lebih baik pada bobot dan hubungan antar fitur.  MLP dapat menangani hubungan yang lebih kompleks antara fitur dan target. Meskipun dataset Titanic relatif kecil, MLP masih dapat mempelajari representasi yang lebih kompleks dari data, yang mungkin menjelaskan sedikit peningkatan dalam akurasi dibandingkan KNN dan LR. Proses pelatihan MLP menggunakan backpropagation dan optimasi yang lebih canggih memungkinkan model untuk menyesuaikan bobot secara efisien, menghasilkan sedikit perbaikan dibandingkan KNN dan LR."
   ]
  },
  {
   "cell_type": "markdown",
   "id": "7d1b99db",
   "metadata": {},
   "source": [
    "**SOAL NOMOR 4 (EVALUASI)**"
   ]
  },
  {
   "cell_type": "markdown",
   "id": "1a0d3856",
   "metadata": {},
   "source": [
    "a. Berdasarkan classification report model terbaik, berapa nilai precision dan recall untuk prediksi penumpang yang selamat?"
   ]
  },
  {
   "cell_type": "code",
   "execution_count": null,
   "id": "20ba672b",
   "metadata": {},
   "outputs": [
    {
     "name": "stdout",
     "output_type": "stream",
     "text": [
      "Akurasi Klasifikasi: 0.8379888268156425\n",
      "Laporan Klasifikasi:\n",
      "               precision    recall  f1-score   support\n",
      "\n",
      "           0       0.83      0.91      0.87       105\n",
      "           1       0.86      0.73      0.79        74\n",
      "\n",
      "    accuracy                           0.84       179\n",
      "   macro avg       0.84      0.82      0.83       179\n",
      "weighted avg       0.84      0.84      0.84       179\n",
      "\n"
     ]
    }
   ],
   "source": [
    "# Split data\n",
    "X_train, X_test, y_train, y_test = train_test_split(X, y, test_size=0.2, random_state=42)\n",
    "\n",
    "scaler = StandardScaler()\n",
    "X_train_scaled = scaler.fit_transform(X_train)\n",
    "X_test_scaled = scaler.transform(X_test)\n",
    "\n",
    "#Model MLP untuk Klasifikasi\n",
    "mlp = MLPClassifier(hidden_layer_sizes=(6, 4), max_iter=1000, alpha=0.01, random_state=42)\n",
    "mlp.fit(X_train, y_train)\n",
    "y_pred = mlp.predict(X_test)\n",
    "\n",
    "print(\"Akurasi Klasifikasi:\", accuracy_score(y_test, y_pred))\n",
    "print(\"Laporan Klasifikasi:\\n\", classification_report(y_test, y_pred)) "
   ]
  },
  {
   "cell_type": "markdown",
   "id": "8fa8a9c8",
   "metadata": {},
   "source": [
    "Berdasarkan Classification Report MLP, \n",
    "- Precision untuk penumpang yang selamat : 0.86\n",
    "- Recall untuk penumpang yang selamat : 0.73"
   ]
  },
  {
   "cell_type": "markdown",
   "id": "5c33e193",
   "metadata": {},
   "source": [
    "b. Berapa banyak penumpang yang di prediksi selamat, dan berapa diantaranya benar-benar selamat?"
   ]
  },
  {
   "cell_type": "code",
   "execution_count": 75,
   "id": "145b901f",
   "metadata": {},
   "outputs": [
    {
     "name": "stdout",
     "output_type": "stream",
     "text": [
      "Jumlah penumpang yang diprediksi selamat: 63\n",
      "Jumlah di antaranya yang benar-benar selamat: 54\n"
     ]
    }
   ],
   "source": [
    "# Jumlah yang diprediksi selamat (prediksi = 1)\n",
    "jumlah_prediksi_selamat = np.sum(y_pred == 1)\n",
    "\n",
    "# Jumlah yang benar-benar selamat di antara prediksi = 1\n",
    "jumlah_benar_selamat = np.sum((y_pred == 1) & (y_test == 1))\n",
    "\n",
    "print(f\"Jumlah penumpang yang diprediksi selamat: {jumlah_prediksi_selamat}\")\n",
    "print(f\"Jumlah di antaranya yang benar-benar selamat: {jumlah_benar_selamat}\")"
   ]
  }
 ],
 "metadata": {
  "kernelspec": {
   "display_name": "Python 3",
   "language": "python",
   "name": "python3"
  },
  "language_info": {
   "codemirror_mode": {
    "name": "ipython",
    "version": 3
   },
   "file_extension": ".py",
   "mimetype": "text/x-python",
   "name": "python",
   "nbconvert_exporter": "python",
   "pygments_lexer": "ipython3",
   "version": "3.13.2"
  }
 },
 "nbformat": 4,
 "nbformat_minor": 5
}
